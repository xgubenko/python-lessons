{
 "cells": [
  {
   "cell_type": "code",
   "execution_count": null,
   "metadata": {},
   "outputs": [],
   "source": [
    "%pip install pandas numpy"
   ]
  },
  {
   "cell_type": "code",
   "execution_count": null,
   "metadata": {},
   "outputs": [],
   "source": [
    "print(\"Hello\")"
   ]
  },
  {
   "cell_type": "code",
   "execution_count": null,
   "metadata": {},
   "outputs": [],
   "source": [
    "# Работа со списками\n",
    "numbers = [0, 1, 2, 3, 4, 5, 6, 7, 8, 9]\n",
    "\n",
    "# Получить первые 5 элементов\n",
    "first_five = numbers[:5]\n",
    "print(first_five)  # [0, 1, 2, 3, 4]\n",
    "\n",
    "# Получить элементы с индекса 3 до 7\n",
    "middle = numbers[3:8]\n",
    "print(middle)  # [3, 4, 5, 6, 7]\n",
    "\n",
    "# Каждый второй элемент\n",
    "every_second = numbers[::2]\n",
    "print(every_second)  # [0, 2, 4, 6, 8]\n",
    "\n",
    "# Обратный порядок\n",
    "reversed_list = numbers[::-1]\n",
    "print(reversed_list)  # [9, 8, 7, 6, 5, 4, 3, 2, 1, 0]"
   ]
  },
  {
   "cell_type": "code",
   "execution_count": null,
   "metadata": {},
   "outputs": [],
   "source": [
    "text = \"Hello, World!\"\n",
    "\n",
    "# Первые 5 символов\n",
    "print(text[:5])  # \"Hello\"\n",
    "\n",
    "# Символы с 7 по 12\n",
    "print(text[7:12])  # \"World\"\n",
    "\n",
    "# Каждый третий символ\n",
    "print(text[::3])  # \"Hl r!\"\n",
    "\n",
    "# Перевернуть строку\n",
    "print(text[::-1])  # \"!dlroW ,olleH\""
   ]
  },
  {
   "cell_type": "code",
   "execution_count": null,
   "metadata": {},
   "outputs": [],
   "source": [
    "colors = ['red', 'green', 'blue', 'yellow', 'black']\n",
    "\n",
    "# Заменить элементы с 1 по 3\n",
    "colors[1:4] = ['orange', 'purple']\n",
    "print(colors)  # ['red', 'orange', 'purple', 'black']\n",
    "\n",
    "# Удалить каждый второй элемент\n",
    "del colors[::2]\n",
    "print(colors)  # ['orange', 'black']"
   ]
  },
  {
   "cell_type": "code",
   "execution_count": null,
   "metadata": {},
   "outputs": [],
   "source": [
    "# Проверка на палиндром\n",
    "def is_palindrome(word):\n",
    "    return word == word[::-1]\n",
    "\n",
    "print(is_palindrome(\"радар\"))  # True\n",
    "print(is_palindrome(\"python\"))  # False\n",
    "\n",
    "# Разделение строки на части\n",
    "def split_into_chunks(text, chunk_size):\n",
    "    return [text[i:i+chunk_size] for i in range(0, len(text), chunk_size)]\n",
    "\n",
    "print(split_into_chunks(\"abcdefghijk\", 3))  # ['abc', 'def', 'ghi', 'jk']\n",
    "\n",
    "# Вращение списка\n",
    "def rotate_list(lst, n):\n",
    "    n = n % len(lst)\n",
    "    return lst[-n:] + lst[:-n]\n",
    "\n",
    "print(rotate_list([1, 2, 3, 4, 5], 2))  # [4, 5, 1, 2, 3]"
   ]
  },
  {
   "cell_type": "code",
   "execution_count": null,
   "metadata": {},
   "outputs": [],
   "source": [
    "import numpy as np\n",
    "\n",
    "matrix = np.array([\n",
    "    [1, 2, 3, 4],\n",
    "    [5, 6, 7, 8],\n",
    "    [9, 10, 11, 12]\n",
    "])\n",
    "\n",
    "# Получить первые 2 строки и столбцы с 1 по 3\n",
    "print(matrix[:2, 1:3])\n",
    "# Вывод:\n",
    "# [[2 3]\n",
    "#  [6 7]]\n",
    "\n",
    "# Каждая вторая строка и каждый третий столбец\n",
    "print(matrix[::2, ::3])\n",
    "# Вывод:\n",
    "# [[1 4]\n",
    "#  [9 12]]"
   ]
  }
 ],
 "metadata": {
  "kernelspec": {
   "display_name": "Python 3.13.4 64-bit",
   "language": "python",
   "name": "python3"
  },
  "language_info": {
   "codemirror_mode": {
    "name": "ipython",
    "version": 3
   },
   "file_extension": ".py",
   "mimetype": "text/x-python",
   "name": "python",
   "nbconvert_exporter": "python",
   "pygments_lexer": "ipython3",
   "version": "3.13.4"
  },
  "orig_nbformat": 4,
  "vscode": {
   "interpreter": {
    "hash": "5478c313ed766865ab3435cfd91527f373e48c57de547c64fc83b4ca53a5a2b1"
   }
  }
 },
 "nbformat": 4,
 "nbformat_minor": 2
}
